{
 "cells": [
  {
   "cell_type": "code",
   "execution_count": 1,
   "metadata": {},
   "outputs": [],
   "source": [
    "import pandas as pd\n",
    "import numpy as np"
   ]
  },
  {
   "cell_type": "code",
   "execution_count": 2,
   "metadata": {},
   "outputs": [],
   "source": [
    "# Output markdown to cells\n",
    "from IPython.display import display, Markdown"
   ]
  },
  {
   "cell_type": "markdown",
   "metadata": {},
   "source": [
    "---\n",
    "## Home Area Network Plug Readings"
   ]
  },
  {
   "cell_type": "code",
   "execution_count": 3,
   "metadata": {},
   "outputs": [],
   "source": [
    "# Read HANPR data\n",
    "url_path = \"https://data.gov.au/dataset/4e21dea3-9b87-4610-94c7-15a8a77907ef/resource/63d2b1cd-f453-4440-8bb7-ed083326f5ae/download/sgsc-cthanplug-readings.csv\"\n",
    "HAN_readings_df = pd.read_csv(url_path)"
   ]
  },
  {
   "cell_type": "code",
   "execution_count": 4,
   "metadata": {},
   "outputs": [],
   "source": [
    "# Trim leading and trailing whitespaces in column names\n",
    "HAN_readings_df.columns = HAN_readings_df.columns.str.strip()"
   ]
  },
  {
   "cell_type": "code",
   "execution_count": 5,
   "metadata": {},
   "outputs": [
    {
     "name": "stdout",
     "output_type": "stream",
     "text": [
      "<class 'pandas.core.frame.DataFrame'>\n",
      "RangeIndex: 10828120 entries, 0 to 10828119\n",
      "Data columns (total 6 columns):\n",
      " #   Column         Dtype  \n",
      "---  ------         -----  \n",
      " 0   CUSTOMER_ID    int64  \n",
      " 1   READING_TIME   object \n",
      " 2   PLUG_NAME      object \n",
      " 3   READING_VALUE  float64\n",
      " 4   CALENDAR_KEY   int64  \n",
      " 5   RECORD_COUNT   int64  \n",
      "dtypes: float64(1), int64(3), object(2)\n",
      "memory usage: 495.7+ MB\n"
     ]
    }
   ],
   "source": [
    "HAN_readings_df.info(verbose=True)"
   ]
  },
  {
   "cell_type": "code",
   "execution_count": 6,
   "metadata": {},
   "outputs": [
    {
     "data": {
      "text/plain": [
       "(808,)"
      ]
     },
     "execution_count": 6,
     "metadata": {},
     "output_type": "execute_result"
    }
   ],
   "source": [
    "# Number of unique households with HANPR data\n",
    "HAN_readings_df.CUSTOMER_ID.unique().shape"
   ]
  },
  {
   "cell_type": "markdown",
   "metadata": {},
   "source": [
    "---\n",
    "### Dataframe structure plot"
   ]
  },
  {
   "cell_type": "markdown",
   "metadata": {},
   "source": [
    "The **unique** values for each column are:"
   ]
  },
  {
   "cell_type": "code",
   "execution_count": 7,
   "metadata": {},
   "outputs": [
    {
     "data": {
      "text/plain": [
       "{'READING_TIME': array(['2013-08-19 14:48:40', '2013-08-19 14:48:41',\n",
       "        '2013-08-19 14:48:42', ..., '2013-12-11 00:00:11',\n",
       "        '2014-02-07 14:07:16', '2014-02-18 16:57:53'], dtype=object),\n",
       " 'PLUG_NAME': array(['Microwave', 'TV', 'Dishwasher', 'Kettle', 'WashingMachine',\n",
       "        'AirCon', 'Computer', 'Freezer', 'Fridge', 'B1', 'Washing',\n",
       "        'Dryer', 'Lights', 'TV2', 'W1', 'Oven', 'Pool Pump', 'B2',\n",
       "        'Lights2', 'Aircon', 'Plug 1', 'Plug 2', 'Lights Upstairs',\n",
       "        'Lights Downstairs', 'Stove', 'Bathroom', 'Sound System', 'Radio',\n",
       "        'Kitchen', 'Aircon A', 'Aircon B', 'Aircon C', 'Toaster', 'TV3',\n",
       "        'AirCon2', 'Hot Water System', 'Fridge2', 'Garage', 'W2',\n",
       "        'Rachels computer', 'Bedroom TV', 'Computer2', 'Laptop',\n",
       "        'Bedroom 1', 'Ent System', 'Fridge 2', 'Washing 2', 'Home Theatre',\n",
       "        'Coffee Machine', 'Aquarium', 'Kitchen2', 'PanelMeter', 'Lamp1',\n",
       "        'Other1', 'Fan', 'B3', 'Computer3', 'Hot Plates', 'Microwave 2',\n",
       "        'Heater', 'Study', 'SPA', 'Pool Heater', 'LAPTOP1', 'LAPTOP3',\n",
       "        'LAPTOP2', 'Games Console', 'TV4', 'WATER DISPENSER',\n",
       "        'Drainage Pump', 'BackRoom', 'Office', 'Iron', 'Pool Cleaner',\n",
       "        'LAUNGE 1', 'Bedroom 3', 'LAUNGE 2', 'Bedroom 2', 'LOUNGE 2',\n",
       "        'LOUNGE 1', 'Heat pump C', 'Heat pump A', 'Heat pump B', 'D3',\n",
       "        'L2', 'MW', 'H1', 'L3', 'L1', 'Lamp2', 'Pool filter', 'Server',\n",
       "        'Fridge 3', 'Pool', 'Underfloor heating', 'Bottle fridge',\n",
       "        'AirCon3', 'Massage chair', 'Plug 3', 'Plug 5', 'Plug 4', 'Plug 6',\n",
       "        'Plug 7', 'Lamp3', 'Av room', 'Computer Z', 'POWER BOARD',\n",
       "        'WORKSHOP', 'Aquarium 2', 'Aquarium 1'], dtype=object),\n",
       " 'READING_VALUE': array([0.000000e+00, 2.000000e-03, 3.000000e-03, ..., 5.392749e+03,\n",
       "        5.422542e+03, 5.425509e+03]),\n",
       " 'CALENDAR_KEY': array([281420, 281423, 281426, ..., 281997, 319437, 319593], dtype=int64),\n",
       " 'RECORD_COUNT': array([1, 2, 3], dtype=int64)}"
      ]
     },
     "execution_count": 7,
     "metadata": {},
     "output_type": "execute_result"
    }
   ],
   "source": [
    "HAN_readings_df.drop(['CUSTOMER_ID'], axis='columns').phd.unique_cols()"
   ]
  },
  {
   "cell_type": "code",
   "execution_count": 8,
   "metadata": {},
   "outputs": [],
   "source": [
    "# Get the devices and bedrooms per consumer\n",
    "customer_devices_df = HAN_readings_df.groupby('CUSTOMER_ID').apply(lambda x: x['PLUG_NAME'].unique())"
   ]
  },
  {
   "cell_type": "code",
   "execution_count": 9,
   "metadata": {},
   "outputs": [
    {
     "data": {
      "text/plain": [
       "CUSTOMER_ID\n",
       "8145135     [Kitchen, Microwave, TV, Washing, Aircon, Dish...\n",
       "8145501                                                  [B1]\n",
       "8147703     [Kettle, Washing, Computer, Dryer, Lights, TV,...\n",
       "8149711     [Aircon, Hot Water System, Oven, Microwave, Fr...\n",
       "8151717                                                  [B2]\n",
       "                                  ...                        \n",
       "11450557                                                 [B1]\n",
       "11452683    [Washing, Dishwasher, TV, Kitchen2, Bathroom, ...\n",
       "11462018    [Dishwasher, TV, Washing, Aircon, Computer, Ho...\n",
       "11466569                                                 [B2]\n",
       "11590454                                                 [W1]\n",
       "Name: device_list, Length: 808, dtype: object"
      ]
     },
     "execution_count": 9,
     "metadata": {},
     "output_type": "execute_result"
    }
   ],
   "source": [
    "customer_devices_df.rename(\"device_list\", inplace=True)"
   ]
  },
  {
   "cell_type": "markdown",
   "metadata": {},
   "source": [
    "---\n",
    "### *Potential features/Feature engineering*\n",
    "\n",
    "First we try to see if we can extract features from the *Home network plug readings* dataset. We can create features per household, like number of TVs, number of ACs, etc., which can later be used to predict how the households have responded."
   ]
  },
  {
   "cell_type": "code",
   "execution_count": 10,
   "metadata": {},
   "outputs": [
    {
     "data": {
      "text/plain": [
       "array(['AirCon', 'AirCon2', 'AirCon3', 'Aircon', 'Aircon A', 'Aircon B',\n",
       "       'Aircon C', 'Aquarium', 'Aquarium 1', 'Aquarium 2', 'Av room',\n",
       "       'B1', 'B2', 'B3', 'BackRoom', 'Bathroom', 'Bedroom 1', 'Bedroom 2',\n",
       "       'Bedroom 3', 'Bedroom TV', 'Bottle fridge', 'Coffee Machine',\n",
       "       'Computer', 'Computer Z', 'Computer2', 'Computer3', 'D3',\n",
       "       'Dishwasher', 'Drainage Pump', 'Dryer', 'Ent System', 'Fan',\n",
       "       'Freezer', 'Fridge', 'Fridge 2', 'Fridge 3', 'Fridge2',\n",
       "       'Games Console', 'Garage', 'H1', 'Heat pump A', 'Heat pump B',\n",
       "       'Heat pump C', 'Heater', 'Home Theatre', 'Hot Plates',\n",
       "       'Hot Water System', 'Iron', 'Kettle', 'Kitchen', 'Kitchen2', 'L1',\n",
       "       'L2', 'L3', 'LAPTOP1', 'LAPTOP2', 'LAPTOP3', 'LAUNGE 1',\n",
       "       'LAUNGE 2', 'LOUNGE 1', 'LOUNGE 2', 'Lamp1', 'Lamp2', 'Lamp3',\n",
       "       'Laptop', 'Lights', 'Lights Downstairs', 'Lights Upstairs',\n",
       "       'Lights2', 'MW', 'Massage chair', 'Microwave', 'Microwave 2',\n",
       "       'Office', 'Other1', 'Oven', 'POWER BOARD', 'PanelMeter', 'Plug 1',\n",
       "       'Plug 2', 'Plug 3', 'Plug 4', 'Plug 5', 'Plug 6', 'Plug 7', 'Pool',\n",
       "       'Pool Cleaner', 'Pool Heater', 'Pool Pump', 'Pool filter',\n",
       "       'Rachels computer', 'Radio', 'SPA', 'Server', 'Sound System',\n",
       "       'Stove', 'Study', 'TV', 'TV2', 'TV3', 'TV4', 'Toaster',\n",
       "       'Underfloor heating', 'W1', 'W2', 'WATER DISPENSER', 'WORKSHOP',\n",
       "       'Washing', 'Washing 2', 'WashingMachine'], dtype=object)"
      ]
     },
     "execution_count": 10,
     "metadata": {},
     "output_type": "execute_result"
    }
   ],
   "source": [
    "# Sort and print the various devices used\n",
    "np.sort(HAN_readings_df.PLUG_NAME.unique())"
   ]
  },
  {
   "cell_type": "code",
   "execution_count": 11,
   "metadata": {},
   "outputs": [],
   "source": [
    "devices_df = customer_devices_df.explode().reset_index()"
   ]
  },
  {
   "cell_type": "code",
   "execution_count": 12,
   "metadata": {},
   "outputs": [
    {
     "data": {
      "text/markdown": [
       "The total number of households for which we have household device data is **808**."
      ],
      "text/plain": [
       "<IPython.core.display.Markdown object>"
      ]
     },
     "metadata": {},
     "output_type": "display_data"
    }
   ],
   "source": [
    "display(Markdown(\"The total number of households for which we have household device data is **{}**.\".format(devices_df.CUSTOMER_ID.unique().shape[0])))"
   ]
  },
  {
   "cell_type": "code",
   "execution_count": 13,
   "metadata": {},
   "outputs": [
    {
     "data": {
      "text/markdown": [
       "The total number of households for which we have AC data is **119**."
      ],
      "text/plain": [
       "<IPython.core.display.Markdown object>"
      ]
     },
     "metadata": {},
     "output_type": "display_data"
    }
   ],
   "source": [
    "# Number of AC units\n",
    "AC_mask = devices_df['device_list'].str.contains('aircon*', case=False, regex=True)\n",
    "\n",
    "# Number of households that we data about AC  \n",
    "display(Markdown(\"The total number of households for which we have AC data is **{}**.\".format(devices_df[AC_mask].CUSTOMER_ID.unique().shape[0])))"
   ]
  },
  {
   "cell_type": "code",
   "execution_count": 14,
   "metadata": {},
   "outputs": [
    {
     "data": {
      "text/markdown": [
       "The total number of households for which we have heat pump data is **1**."
      ],
      "text/plain": [
       "<IPython.core.display.Markdown object>"
      ]
     },
     "metadata": {},
     "output_type": "display_data"
    }
   ],
   "source": [
    "# Number of heat pumps\n",
    "HP_mask = devices_df['device_list'].str.contains('heat\\s*pump*', case=False, regex=True)\n",
    "\n",
    "# Number of households that we data about heat pumps\n",
    "display(Markdown(\"The total number of households for which we have heat pump data is **{}**.\".format(devices_df[HP_mask].CUSTOMER_ID.unique().shape[0])))"
   ]
  },
  {
   "cell_type": "code",
   "execution_count": 15,
   "metadata": {},
   "outputs": [
    {
     "data": {
      "text/markdown": [
       "The total number of households for which we have freezer/fridge data is **94**."
      ],
      "text/plain": [
       "<IPython.core.display.Markdown object>"
      ]
     },
     "metadata": {},
     "output_type": "display_data"
    }
   ],
   "source": [
    "# Number of fridges\n",
    "fridge_freezer_mask = devices_df['device_list'].str.contains('fridge*', case=False, regex=True) | devices_df['device_list'].str.contains('Freezer')\n",
    "\n",
    "# Number of households that we data about freezer/fridges\n",
    "display(Markdown(\"The total number of households for which we have freezer/fridge data is **{}**.\".format(devices_df[fridge_freezer_mask].CUSTOMER_ID.unique().shape[0])))"
   ]
  },
  {
   "cell_type": "code",
   "execution_count": 16,
   "metadata": {},
   "outputs": [
    {
     "data": {
      "text/markdown": [
       "The total number of households for which we have PC/laptop data is **121**."
      ],
      "text/plain": [
       "<IPython.core.display.Markdown object>"
      ]
     },
     "metadata": {},
     "output_type": "display_data"
    }
   ],
   "source": [
    "# Number of computers \n",
    "PC_laptop_mask = devices_df['device_list'].str.contains('comp*', case=False, regex=True) | devices_df['device_list'].str.contains('lapt*', case=False, regex=True)\n",
    "\n",
    "# Number of households that we data about PCs/laptops\n",
    "display(Markdown(\"The total number of households for which we have PC/laptop data is **{}**.\".format(devices_df[PC_laptop_mask].CUSTOMER_ID.unique().shape[0])))"
   ]
  },
  {
   "cell_type": "code",
   "execution_count": 17,
   "metadata": {},
   "outputs": [
    {
     "data": {
      "text/plain": [
       "0.49876237623762376"
      ]
     },
     "execution_count": 17,
     "metadata": {},
     "output_type": "execute_result"
    }
   ],
   "source": [
    "# Proportion of households that have AC or fridge or laptop\n",
    "devices_df[AC_mask | fridge_freezer_mask | PC_laptop_mask].shape[0]/devices_df.CUSTOMER_ID.unique().shape[0]"
   ]
  },
  {
   "cell_type": "markdown",
   "metadata": {},
   "source": [
    "We can see that the various features only constitute a small subset of the households, and so they will **not be really informative** to be used for the modelling of residential response behaviour."
   ]
  }
 ],
 "metadata": {
  "kernelspec": {
   "display_name": "Python (visual)",
   "language": "python",
   "name": "visualisation"
  },
  "language_info": {
   "codemirror_mode": {
    "name": "ipython",
    "version": 3
   },
   "file_extension": ".py",
   "mimetype": "text/x-python",
   "name": "python",
   "nbconvert_exporter": "python",
   "pygments_lexer": "ipython3",
   "version": "3.8.1"
  }
 },
 "nbformat": 4,
 "nbformat_minor": 4
}